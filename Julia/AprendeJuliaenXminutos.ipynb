{
 "cells": [
  {
   "cell_type": "code",
   "execution_count": 29,
   "metadata": {},
   "outputs": [
    {
     "data": {
      "text/plain": [
       "3-element Array{Int64,1}:\n",
       " 8\n",
       " 5\n",
       " 3"
      ]
     },
     "execution_count": 29,
     "metadata": {},
     "output_type": "execute_result"
    }
   ],
   "source": [
    "a=5\n",
    "b=7.2\n",
    "h=\"hola\"\n",
    "d='c'\n",
    "q=[8,5,3]"
   ]
  },
  {
   "cell_type": "code",
   "execution_count": 2,
   "metadata": {},
   "outputs": [
    {
     "data": {
      "text/plain": [
       "Array{Int64,1}"
      ]
     },
     "execution_count": 2,
     "metadata": {},
     "output_type": "execute_result"
    }
   ],
   "source": [
    "typeof(q)"
   ]
  },
  {
   "cell_type": "code",
   "execution_count": 12,
   "metadata": {},
   "outputs": [
    {
     "data": {
      "text/plain": [
       "3-element Array{Int64,1}:\n",
       " 8\n",
       " 5\n",
       " 3"
      ]
     },
     "execution_count": 12,
     "metadata": {},
     "output_type": "execute_result"
    }
   ],
   "source": [
    "q=[8, 5, 3]"
   ]
  },
  {
   "cell_type": "code",
   "execution_count": 8,
   "metadata": {},
   "outputs": [
    {
     "data": {
      "text/plain": [
       "(Char, String)"
      ]
     },
     "execution_count": 8,
     "metadata": {},
     "output_type": "execute_result"
    }
   ],
   "source": [
    "typeof(b), typeof(h)"
   ]
  },
  {
   "cell_type": "code",
   "execution_count": 6,
   "metadata": {},
   "outputs": [
    {
     "data": {
      "text/plain": [
       "π = 3.1415926535897..."
      ]
     },
     "execution_count": 6,
     "metadata": {},
     "output_type": "execute_result"
    }
   ],
   "source": [
    "π"
   ]
  },
  {
   "cell_type": "code",
   "execution_count": 7,
   "metadata": {},
   "outputs": [
    {
     "data": {
      "text/plain": [
       "\"hóla!\""
      ]
     },
     "execution_count": 7,
     "metadata": {},
     "output_type": "execute_result"
    }
   ],
   "source": [
    "hòla=\"hóla!\""
   ]
  },
  {
   "cell_type": "code",
   "execution_count": 10,
   "metadata": {},
   "outputs": [
    {
     "data": {
      "text/plain": [
       "(5, 'c')"
      ]
     },
     "execution_count": 10,
     "metadata": {},
     "output_type": "execute_result"
    }
   ],
   "source": [
    "t=a,b"
   ]
  },
  {
   "cell_type": "code",
   "execution_count": 11,
   "metadata": {},
   "outputs": [
    {
     "data": {
      "text/plain": [
       "Tuple{Int64,Char}"
      ]
     },
     "execution_count": 11,
     "metadata": {},
     "output_type": "execute_result"
    }
   ],
   "source": [
    "typeof(t)"
   ]
  },
  {
   "cell_type": "code",
   "execution_count": 20,
   "metadata": {},
   "outputs": [
    {
     "data": {
      "text/plain": [
       "(8, 3)"
      ]
     },
     "execution_count": 20,
     "metadata": {},
     "output_type": "execute_result"
    }
   ],
   "source": [
    "q[1], q[3]"
   ]
  },
  {
   "cell_type": "code",
   "execution_count": 22,
   "metadata": {},
   "outputs": [
    {
     "data": {
      "text/plain": [
       "800:1500"
      ]
     },
     "execution_count": 22,
     "metadata": {},
     "output_type": "execute_result"
    }
   ],
   "source": [
    "rango=800:1500"
   ]
  },
  {
   "cell_type": "code",
   "execution_count": 23,
   "metadata": {},
   "outputs": [
    {
     "data": {
      "text/plain": [
       "3000-element Array{Float64,1}:\n",
       "  0.6839507935805687 \n",
       " -0.08076874607807719\n",
       "  0.5044229768393785 \n",
       " -0.46540093065767857\n",
       "  3.202957531667775  \n",
       " -0.21323340124420917\n",
       "  1.0120928923384185 \n",
       " -0.4154845634936729 \n",
       "  0.30823798151082044\n",
       " -1.059474649571526  \n",
       " -0.5783408884147571 \n",
       " -2.442349356625658  \n",
       "  0.1112268288330156 \n",
       "  ⋮                  \n",
       " -1.89962916135739   \n",
       "  0.7960782630647159 \n",
       "  0.4009679299855323 \n",
       " -1.6733892663033811 \n",
       " -1.2330453271594322 \n",
       " -1.1335170658550233 \n",
       " -0.4813414795244584 \n",
       "  1.590948474522461  \n",
       "  0.25345546135611713\n",
       "  0.2564069026995014 \n",
       "  0.5551638037511292 \n",
       " -0.2740129396948111 "
      ]
     },
     "execution_count": 23,
     "metadata": {},
     "output_type": "execute_result"
    }
   ],
   "source": [
    "datos=randn(3000)"
   ]
  },
  {
   "cell_type": "code",
   "execution_count": 24,
   "metadata": {},
   "outputs": [
    {
     "data": {
      "text/plain": [
       "701-element Array{Float64,1}:\n",
       "  0.03623809346716192 \n",
       " -1.5907697423991243  \n",
       "  1.5755216110579562  \n",
       "  0.16672013620816398 \n",
       " -0.833090128971341   \n",
       " -1.04140729213895    \n",
       " -0.7009163523249852  \n",
       "  0.16367166473861033 \n",
       "  0.21519838014052753 \n",
       "  0.4228762789733518  \n",
       "  0.6818396922508171  \n",
       "  0.2627640610453474  \n",
       " -0.2265906304961912  \n",
       "  ⋮                   \n",
       "  1.028157805090073   \n",
       " -1.9149235735488677  \n",
       "  0.35572821668446786 \n",
       "  1.5294752843589718  \n",
       " -1.5026087119891256  \n",
       "  0.4441479940146701  \n",
       " -0.3814347491031165  \n",
       " -0.531769603943841   \n",
       "  0.37066011523570586 \n",
       "  0.030732787449465802\n",
       "  0.121929332871145   \n",
       "  1.5115068825344193  "
      ]
     },
     "execution_count": 24,
     "metadata": {},
     "output_type": "execute_result"
    }
   ],
   "source": [
    "subdatos=datos[rango]"
   ]
  },
  {
   "cell_type": "code",
   "execution_count": 36,
   "metadata": {},
   "outputs": [
    {
     "data": {
      "text/plain": [
       "29//9"
      ]
     },
     "execution_count": 36,
     "metadata": {},
     "output_type": "execute_result"
    }
   ],
   "source": [
    "8//3+5//9"
   ]
  },
  {
   "cell_type": "code",
   "execution_count": 37,
   "metadata": {},
   "outputs": [
    {
     "data": {
      "text/plain": [
       "Rational{Int64}"
      ]
     },
     "execution_count": 37,
     "metadata": {},
     "output_type": "execute_result"
    }
   ],
   "source": [
    "typeof(8//3)"
   ]
  },
  {
   "cell_type": "code",
   "execution_count": 41,
   "metadata": {},
   "outputs": [
    {
     "data": {
      "text/plain": [
       "701×701 Array{Float64,2}:\n",
       " -1.55958     0.391567    1.53972     …   2.58515     0.896506     1.10406  \n",
       "  0.322515    0.67987    -0.054561       -0.710035    0.576108    -1.52043  \n",
       " -1.43656    -0.713508   -0.463353       -1.38116     0.487156    -0.33839  \n",
       " -0.64061     0.374047   -1.36384         1.22265     1.418       -0.817169 \n",
       " -0.0259173  -0.461233    0.266119        1.528      -0.492985     0.0501408\n",
       "  1.02365     1.23977    -0.583532    …   1.15744    -0.739648     2.79387  \n",
       " -0.0354496   0.0479055   0.902812        0.228016   -0.69101     -0.346824 \n",
       " -0.119492   -0.391224   -0.00930192      1.61967    -0.764358    -0.62563  \n",
       "  0.675156    0.278687    0.530899        0.676428    0.505853    -2.34991  \n",
       " -0.545704    0.194611    0.665744        0.890313   -0.00742679   0.171631 \n",
       " -0.378587    0.102517   -1.19963     …  -0.55745    -0.476031    -1.19828  \n",
       " -0.463191    0.885575    0.495184        1.38538     0.518498    -0.802343 \n",
       " -0.149106    0.271257    0.0581119      -0.793468    0.572892    -0.526227 \n",
       "  ⋮                                   ⋱                            ⋮        \n",
       " -0.187755    1.14876     0.0373562       0.345521    1.42114     -0.411337 \n",
       " -1.4257     -1.21347     1.16482     …  -2.4253     -0.356786    -1.3195   \n",
       " -0.318721    1.50999     1.39888         0.139423    0.634176    -0.0609655\n",
       " -0.859163   -0.936165    0.209641       -1.60944     1.57444      0.505002 \n",
       " -0.521052    0.667016    0.888205        0.0995955  -1.13216      1.21808  \n",
       " -1.04986     0.275365   -2.57688        -0.0321537   0.0221307   -0.890999 \n",
       " -2.18693     0.132795   -2.02657     …  -0.189165   -0.152572     1.01003  \n",
       "  1.42157    -0.718077    1.19715         1.14632    -0.0591816    0.481722 \n",
       "  0.353745    0.884121   -0.0761892       0.75976    -1.35644      0.0598127\n",
       "  0.455188   -0.278716    0.859834        1.34544     1.59369      0.461035 \n",
       " -0.534074   -0.177335    0.186696       -2.21225    -0.37093      0.319745 \n",
       " -0.596054    0.970895    0.0159934   …   0.180072    0.193506    -0.43616  "
      ]
     },
     "execution_count": 41,
     "metadata": {},
     "output_type": "execute_result"
    }
   ],
   "source": [
    "matriz=randn(701,701)"
   ]
  },
  {
   "cell_type": "code",
   "execution_count": 42,
   "metadata": {},
   "outputs": [
    {
     "data": {
      "text/plain": [
       "701-element Array{Float64,1}:\n",
       "  10.141362755909991  \n",
       " -49.531536939313156  \n",
       " -13.677904760567651  \n",
       " -48.8393033923271    \n",
       "  15.305989503600346  \n",
       "  44.83492189803038   \n",
       " -30.85659134193912   \n",
       " -29.364886403453397  \n",
       "  13.997291918972918  \n",
       "  13.989014561055463  \n",
       "  16.769524256443656  \n",
       "   4.31061273937516   \n",
       "   1.4431465530656182 \n",
       "   ⋮                  \n",
       "  -8.456427615210602  \n",
       " -17.786594387833286  \n",
       "  -6.498086256280568  \n",
       "  10.40852051883395   \n",
       "  18.419101637616095  \n",
       "   2.266185148658103  \n",
       "  -8.320864256946304  \n",
       "  10.830748086767601  \n",
       "   0.08959677783534288\n",
       "  -5.90332849510423   \n",
       "  -7.21966626782705   \n",
       " -26.81011322819601   "
      ]
     },
     "execution_count": 42,
     "metadata": {},
     "output_type": "execute_result"
    }
   ],
   "source": [
    "matriz*subdatos"
   ]
  },
  {
   "cell_type": "code",
   "execution_count": 45,
   "metadata": {},
   "outputs": [
    {
     "name": "stdout",
     "output_type": "stream",
     "text": [
      "tu abuela, (5, 'c')\n"
     ]
    }
   ],
   "source": [
    "println(\"tu abuela, $t\")"
   ]
  },
  {
   "cell_type": "code",
   "execution_count": 46,
   "metadata": {},
   "outputs": [
    {
     "name": "stdout",
     "output_type": "stream",
     "text": [
      "search: \u001b[0m\u001b[1mw\u001b[22m\u001b[0m\u001b[1mr\u001b[22m\u001b[0m\u001b[1mi\u001b[22m\u001b[0m\u001b[1mt\u001b[22m\u001b[0m\u001b[1me\u001b[22m unsafe_\u001b[0m\u001b[1mw\u001b[22m\u001b[0m\u001b[1mr\u001b[22m\u001b[0m\u001b[1mi\u001b[22m\u001b[0m\u001b[1mt\u001b[22m\u001b[0m\u001b[1me\u001b[22m is\u001b[0m\u001b[1mw\u001b[22m\u001b[0m\u001b[1mr\u001b[22m\u001b[0m\u001b[1mi\u001b[22m\u001b[0m\u001b[1mt\u001b[22mabl\u001b[0m\u001b[1me\u001b[22m lo\u001b[0m\u001b[1mw\u001b[22me\u001b[0m\u001b[1mr\u001b[22mcasef\u001b[0m\u001b[1mi\u001b[22mrs\u001b[0m\u001b[1mt\u001b[22m\n",
      "\n"
     ]
    },
    {
     "data": {
      "text/markdown": [
       "```\n",
       "write(io::IO, x)\n",
       "write(filename::AbstractString, x)\n",
       "```\n",
       "\n",
       "Write the canonical binary representation of a value to the given I/O stream or file. Return the number of bytes written into the stream.   See also [`print`](@ref) to write a text representation (with an encoding that may depend upon `io`).\n",
       "\n",
       "You can write multiple values with the same `write` call. i.e. the following are equivalent:\n",
       "\n",
       "```\n",
       "write(io, x, y...)\n",
       "write(io, x) + write(io, y...)\n",
       "```\n",
       "\n",
       "# Examples\n",
       "\n",
       "```jldoctest\n",
       "julia> io = IOBuffer();\n",
       "\n",
       "julia> write(io, \"JuliaLang is a GitHub organization.\", \" It has many members.\")\n",
       "56\n",
       "\n",
       "julia> String(take!(io))\n",
       "\"JuliaLang is a GitHub organization. It has many members.\"\n",
       "\n",
       "julia> write(io, \"Sometimes those members\") + write(io, \" write documentation.\")\n",
       "44\n",
       "\n",
       "julia> String(take!(io))\n",
       "\"Sometimes those members write documentation.\"\n",
       "```\n"
      ],
      "text/plain": [
       "\u001b[36m  write(io::IO, x)\u001b[39m\n",
       "\u001b[36m  write(filename::AbstractString, x)\u001b[39m\n",
       "\n",
       "  Write the canonical binary representation of a value to the given I/O stream\n",
       "  or file. Return the number of bytes written into the stream. See also \u001b[36mprint\u001b[39m\n",
       "  to write a text representation (with an encoding that may depend upon \u001b[36mio\u001b[39m).\n",
       "\n",
       "  You can write multiple values with the same \u001b[36mwrite\u001b[39m call. i.e. the following\n",
       "  are equivalent:\n",
       "\n",
       "\u001b[36m  write(io, x, y...)\u001b[39m\n",
       "\u001b[36m  write(io, x) + write(io, y...)\u001b[39m\n",
       "\n",
       "\u001b[1m  Examples\u001b[22m\n",
       "\u001b[1m  ≡≡≡≡≡≡≡≡≡≡\u001b[22m\n",
       "\n",
       "\u001b[36m  julia> io = IOBuffer();\u001b[39m\n",
       "\u001b[36m  \u001b[39m\n",
       "\u001b[36m  julia> write(io, \"JuliaLang is a GitHub organization.\", \" It has many members.\")\u001b[39m\n",
       "\u001b[36m  56\u001b[39m\n",
       "\u001b[36m  \u001b[39m\n",
       "\u001b[36m  julia> String(take!(io))\u001b[39m\n",
       "\u001b[36m  \"JuliaLang is a GitHub organization. It has many members.\"\u001b[39m\n",
       "\u001b[36m  \u001b[39m\n",
       "\u001b[36m  julia> write(io, \"Sometimes those members\") + write(io, \" write documentation.\")\u001b[39m\n",
       "\u001b[36m  44\u001b[39m\n",
       "\u001b[36m  \u001b[39m\n",
       "\u001b[36m  julia> String(take!(io))\u001b[39m\n",
       "\u001b[36m  \"Sometimes those members write documentation.\"\u001b[39m"
      ]
     },
     "execution_count": 46,
     "metadata": {},
     "output_type": "execute_result"
    }
   ],
   "source": []
  },
  {
   "cell_type": "code",
   "execution_count": null,
   "metadata": {
    "collapsed": true
   },
   "outputs": [],
   "source": []
  }
 ],
 "metadata": {
  "kernelspec": {
   "display_name": "Julia 1.0.0",
   "language": "julia",
   "name": "julia-1.0"
  },
  "language_info": {
   "file_extension": ".jl",
   "mimetype": "application/julia",
   "name": "julia",
   "version": "1.0.0"
  }
 },
 "nbformat": 4,
 "nbformat_minor": 2
}

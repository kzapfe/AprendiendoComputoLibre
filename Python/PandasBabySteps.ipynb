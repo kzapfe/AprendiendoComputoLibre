{
 "cells": [
  {
   "cell_type": "markdown",
   "metadata": {},
   "source": [
    "# Leccion 1 para usar Pandas\n",
    "## Agrupando datos por tipo de experimento\n",
    " Vamos a agarrar los datos de Felipe y Agruparlos"
   ]
  },
  {
   "cell_type": "code",
   "execution_count": 1,
   "metadata": {
    "collapsed": false
   },
   "outputs": [],
   "source": [
    "import pandas\n",
    "import matplotlib.pyplot as plt\n",
    "import matplotlib\n",
    "matplotlib.style.use('ggplot')"
   ]
  },
  {
   "cell_type": "code",
   "execution_count": 2,
   "metadata": {
    "collapsed": true
   },
   "outputs": [],
   "source": [
    "from scipy.optimize import curve_fit"
   ]
  },
  {
   "cell_type": "code",
   "execution_count": 3,
   "metadata": {
    "collapsed": true
   },
   "outputs": [],
   "source": [
    "nombredatillos='../DatosIntraCelularesFelipe/C1_21_2_17_data.csv'"
   ]
  },
  {
   "cell_type": "code",
   "execution_count": 4,
   "metadata": {
    "collapsed": false
   },
   "outputs": [
    {
     "data": {
      "text/plain": [
       "802"
      ]
     },
     "execution_count": 4,
     "metadata": {},
     "output_type": "execute_result"
    }
   ],
   "source": [
    "datosoriginales=pandas.read_csv(nombredatillos)\n",
    "#grupillos=datillos.groupby('ID')\n",
    "len(datosoriginales)"
   ]
  },
  {
   "cell_type": "code",
   "execution_count": 5,
   "metadata": {
    "collapsed": false
   },
   "outputs": [
    {
     "data": {
      "text/plain": [
       "768"
      ]
     },
     "execution_count": 5,
     "metadata": {},
     "output_type": "execute_result"
    }
   ],
   "source": [
    "datos=datosoriginales[datosoriginales.ID!='DCG_IV']\n",
    "len(datos)"
   ]
  },
  {
   "cell_type": "code",
   "execution_count": null,
   "metadata": {
    "collapsed": false
   },
   "outputs": [],
   "source": []
  },
  {
   "cell_type": "code",
   "execution_count": 6,
   "metadata": {
    "collapsed": false
   },
   "outputs": [],
   "source": [
    "freqs=('06hz', '1hz','4hz')\n",
    "conds=('L', 'Nl','H', 'IV')\n",
    "a=[]\n",
    "b=[]\n",
    "for j in datos['ID']:\n",
    "    bu=j.split('_')[1].strip()\n",
    "    for f in freqs:\n",
    "        l=bu.find(f)\n",
    "        if l!=-1: \n",
    "           a.append(bu[l:l+len(f)])\n",
    "    for c in conds:\n",
    "        l=bu.find(c)\n",
    "        if l!=-1: \n",
    "           b.append(bu[l:l+len(c)])\n"
   ]
  },
  {
   "cell_type": "code",
   "execution_count": 8,
   "metadata": {
    "collapsed": false
   },
   "outputs": [
    {
     "name": "stderr",
     "output_type": "stream",
     "text": [
      "/usr/lib64/python3.4/site-packages/ipykernel/__main__.py:1: SettingWithCopyWarning: \n",
      "A value is trying to be set on a copy of a slice from a DataFrame.\n",
      "Try using .loc[row_indexer,col_indexer] = value instead\n",
      "\n",
      "See the the caveats in the documentation: http://pandas.pydata.org/pandas-docs/stable/indexing.html#indexing-view-versus-copy\n",
      "  if __name__ == '__main__':\n",
      "/usr/lib64/python3.4/site-packages/ipykernel/__main__.py:2: SettingWithCopyWarning: \n",
      "A value is trying to be set on a copy of a slice from a DataFrame.\n",
      "Try using .loc[row_indexer,col_indexer] = value instead\n",
      "\n",
      "See the the caveats in the documentation: http://pandas.pydata.org/pandas-docs/stable/indexing.html#indexing-view-versus-copy\n",
      "  from ipykernel import kernelapp as app\n"
     ]
    }
   ],
   "source": [
    "datos['Freq']=pandas.Series(a, index=datos.index, dtype='category')\n",
    "datos['Cond']=pandas.Series(b,index=datos.index, dtype='category')\n",
    "datos=datos.drop('ID',1)"
   ]
  },
  {
   "cell_type": "code",
   "execution_count": 34,
   "metadata": {
    "collapsed": false
   },
   "outputs": [],
   "source": [
    "\n",
    "datos.boxplot(column='Peaks', by='Cond', rot=90, sym=\"o\")\n",
    "plt.show()\n"
   ]
  },
  {
   "cell_type": "code",
   "execution_count": 32,
   "metadata": {
    "collapsed": false
   },
   "outputs": [
    {
     "data": {
      "text/html": [
       "<div>\n",
       "<table border=\"1\" class=\"dataframe\">\n",
       "  <thead>\n",
       "    <tr style=\"text-align: right;\">\n",
       "      <th></th>\n",
       "      <th>Peaks</th>\n",
       "      <th>RiseTime</th>\n",
       "      <th>Latency</th>\n",
       "      <th>Freq</th>\n",
       "      <th>Cond</th>\n",
       "    </tr>\n",
       "  </thead>\n",
       "  <tbody>\n",
       "    <tr>\n",
       "      <th>59</th>\n",
       "      <td>-63.077769</td>\n",
       "      <td>0.584470</td>\n",
       "      <td>3.389625</td>\n",
       "      <td>4hz</td>\n",
       "      <td>L</td>\n",
       "    </tr>\n",
       "    <tr>\n",
       "      <th>60</th>\n",
       "      <td>-76.300027</td>\n",
       "      <td>1.401275</td>\n",
       "      <td>2.320812</td>\n",
       "      <td>4hz</td>\n",
       "      <td>L</td>\n",
       "    </tr>\n",
       "    <tr>\n",
       "      <th>61</th>\n",
       "      <td>-33.204585</td>\n",
       "      <td>1.151778</td>\n",
       "      <td>18.222449</td>\n",
       "      <td>4hz</td>\n",
       "      <td>L</td>\n",
       "    </tr>\n",
       "    <tr>\n",
       "      <th>62</th>\n",
       "      <td>-19.763475</td>\n",
       "      <td>0.051127</td>\n",
       "      <td>45.214788</td>\n",
       "      <td>4hz</td>\n",
       "      <td>L</td>\n",
       "    </tr>\n",
       "    <tr>\n",
       "      <th>63</th>\n",
       "      <td>-29.602051</td>\n",
       "      <td>0.920148</td>\n",
       "      <td>3.501284</td>\n",
       "      <td>4hz</td>\n",
       "      <td>L</td>\n",
       "    </tr>\n",
       "    <tr>\n",
       "      <th>64</th>\n",
       "      <td>-57.729288</td>\n",
       "      <td>0.717509</td>\n",
       "      <td>3.322949</td>\n",
       "      <td>4hz</td>\n",
       "      <td>L</td>\n",
       "    </tr>\n",
       "    <tr>\n",
       "      <th>65</th>\n",
       "      <td>-81.074621</td>\n",
       "      <td>0.607985</td>\n",
       "      <td>3.372244</td>\n",
       "      <td>4hz</td>\n",
       "      <td>L</td>\n",
       "    </tr>\n",
       "    <tr>\n",
       "      <th>66</th>\n",
       "      <td>-53.832520</td>\n",
       "      <td>0.441110</td>\n",
       "      <td>3.354726</td>\n",
       "      <td>4hz</td>\n",
       "      <td>L</td>\n",
       "    </tr>\n",
       "    <tr>\n",
       "      <th>67</th>\n",
       "      <td>-38.630878</td>\n",
       "      <td>1.049847</td>\n",
       "      <td>22.376510</td>\n",
       "      <td>4hz</td>\n",
       "      <td>L</td>\n",
       "    </tr>\n",
       "    <tr>\n",
       "      <th>68</th>\n",
       "      <td>-82.624824</td>\n",
       "      <td>1.393123</td>\n",
       "      <td>3.611196</td>\n",
       "      <td>4hz</td>\n",
       "      <td>L</td>\n",
       "    </tr>\n",
       "    <tr>\n",
       "      <th>69</th>\n",
       "      <td>-43.670531</td>\n",
       "      <td>6.306704</td>\n",
       "      <td>16.625450</td>\n",
       "      <td>4hz</td>\n",
       "      <td>L</td>\n",
       "    </tr>\n",
       "    <tr>\n",
       "      <th>70</th>\n",
       "      <td>-69.048754</td>\n",
       "      <td>0.639394</td>\n",
       "      <td>3.696845</td>\n",
       "      <td>4hz</td>\n",
       "      <td>L</td>\n",
       "    </tr>\n",
       "    <tr>\n",
       "      <th>71</th>\n",
       "      <td>-50.247012</td>\n",
       "      <td>0.901104</td>\n",
       "      <td>2.259930</td>\n",
       "      <td>4hz</td>\n",
       "      <td>L</td>\n",
       "    </tr>\n",
       "    <tr>\n",
       "      <th>72</th>\n",
       "      <td>-38.977391</td>\n",
       "      <td>0.903122</td>\n",
       "      <td>3.672103</td>\n",
       "      <td>4hz</td>\n",
       "      <td>L</td>\n",
       "    </tr>\n",
       "    <tr>\n",
       "      <th>73</th>\n",
       "      <td>-51.370446</td>\n",
       "      <td>0.696490</td>\n",
       "      <td>2.815794</td>\n",
       "      <td>4hz</td>\n",
       "      <td>L</td>\n",
       "    </tr>\n",
       "    <tr>\n",
       "      <th>74</th>\n",
       "      <td>-93.546718</td>\n",
       "      <td>0.652200</td>\n",
       "      <td>3.616830</td>\n",
       "      <td>4hz</td>\n",
       "      <td>L</td>\n",
       "    </tr>\n",
       "    <tr>\n",
       "      <th>75</th>\n",
       "      <td>-58.096472</td>\n",
       "      <td>0.626545</td>\n",
       "      <td>3.837689</td>\n",
       "      <td>4hz</td>\n",
       "      <td>L</td>\n",
       "    </tr>\n",
       "    <tr>\n",
       "      <th>76</th>\n",
       "      <td>-83.072249</td>\n",
       "      <td>1.308421</td>\n",
       "      <td>2.636672</td>\n",
       "      <td>4hz</td>\n",
       "      <td>L</td>\n",
       "    </tr>\n",
       "    <tr>\n",
       "      <th>77</th>\n",
       "      <td>-48.299936</td>\n",
       "      <td>0.306188</td>\n",
       "      <td>71.483252</td>\n",
       "      <td>4hz</td>\n",
       "      <td>L</td>\n",
       "    </tr>\n",
       "    <tr>\n",
       "      <th>78</th>\n",
       "      <td>-40.670542</td>\n",
       "      <td>1.668462</td>\n",
       "      <td>38.208750</td>\n",
       "      <td>4hz</td>\n",
       "      <td>L</td>\n",
       "    </tr>\n",
       "    <tr>\n",
       "      <th>79</th>\n",
       "      <td>-60.424805</td>\n",
       "      <td>1.109133</td>\n",
       "      <td>3.251956</td>\n",
       "      <td>4hz</td>\n",
       "      <td>L</td>\n",
       "    </tr>\n",
       "    <tr>\n",
       "      <th>80</th>\n",
       "      <td>-76.258733</td>\n",
       "      <td>0.978367</td>\n",
       "      <td>3.555976</td>\n",
       "      <td>4hz</td>\n",
       "      <td>L</td>\n",
       "    </tr>\n",
       "    <tr>\n",
       "      <th>81</th>\n",
       "      <td>-211.287275</td>\n",
       "      <td>3.173518</td>\n",
       "      <td>19.567600</td>\n",
       "      <td>4hz</td>\n",
       "      <td>L</td>\n",
       "    </tr>\n",
       "    <tr>\n",
       "      <th>82</th>\n",
       "      <td>-61.622033</td>\n",
       "      <td>1.088259</td>\n",
       "      <td>2.368016</td>\n",
       "      <td>4hz</td>\n",
       "      <td>L</td>\n",
       "    </tr>\n",
       "    <tr>\n",
       "      <th>83</th>\n",
       "      <td>-50.447904</td>\n",
       "      <td>0.857283</td>\n",
       "      <td>74.434597</td>\n",
       "      <td>4hz</td>\n",
       "      <td>L</td>\n",
       "    </tr>\n",
       "    <tr>\n",
       "      <th>84</th>\n",
       "      <td>-50.929143</td>\n",
       "      <td>0.463280</td>\n",
       "      <td>3.468107</td>\n",
       "      <td>4hz</td>\n",
       "      <td>L</td>\n",
       "    </tr>\n",
       "    <tr>\n",
       "      <th>85</th>\n",
       "      <td>-66.540054</td>\n",
       "      <td>0.582960</td>\n",
       "      <td>3.783505</td>\n",
       "      <td>4hz</td>\n",
       "      <td>L</td>\n",
       "    </tr>\n",
       "    <tr>\n",
       "      <th>86</th>\n",
       "      <td>-48.440787</td>\n",
       "      <td>1.460962</td>\n",
       "      <td>2.388205</td>\n",
       "      <td>4hz</td>\n",
       "      <td>L</td>\n",
       "    </tr>\n",
       "    <tr>\n",
       "      <th>87</th>\n",
       "      <td>-66.058819</td>\n",
       "      <td>1.064240</td>\n",
       "      <td>3.079552</td>\n",
       "      <td>4hz</td>\n",
       "      <td>L</td>\n",
       "    </tr>\n",
       "    <tr>\n",
       "      <th>88</th>\n",
       "      <td>-46.093280</td>\n",
       "      <td>0.762473</td>\n",
       "      <td>2.367786</td>\n",
       "      <td>4hz</td>\n",
       "      <td>L</td>\n",
       "    </tr>\n",
       "    <tr>\n",
       "      <th>89</th>\n",
       "      <td>-42.795035</td>\n",
       "      <td>0.297690</td>\n",
       "      <td>3.371337</td>\n",
       "      <td>4hz</td>\n",
       "      <td>L</td>\n",
       "    </tr>\n",
       "    <tr>\n",
       "      <th>90</th>\n",
       "      <td>-43.111948</td>\n",
       "      <td>0.726594</td>\n",
       "      <td>3.798486</td>\n",
       "      <td>4hz</td>\n",
       "      <td>L</td>\n",
       "    </tr>\n",
       "    <tr>\n",
       "      <th>91</th>\n",
       "      <td>-36.632831</td>\n",
       "      <td>1.107338</td>\n",
       "      <td>2.352939</td>\n",
       "      <td>4hz</td>\n",
       "      <td>L</td>\n",
       "    </tr>\n",
       "    <tr>\n",
       "      <th>92</th>\n",
       "      <td>-142.376232</td>\n",
       "      <td>1.374747</td>\n",
       "      <td>3.131961</td>\n",
       "      <td>4hz</td>\n",
       "      <td>L</td>\n",
       "    </tr>\n",
       "    <tr>\n",
       "      <th>93</th>\n",
       "      <td>-35.869892</td>\n",
       "      <td>0.945322</td>\n",
       "      <td>3.422647</td>\n",
       "      <td>4hz</td>\n",
       "      <td>L</td>\n",
       "    </tr>\n",
       "    <tr>\n",
       "      <th>94</th>\n",
       "      <td>-82.690899</td>\n",
       "      <td>1.045888</td>\n",
       "      <td>3.233422</td>\n",
       "      <td>4hz</td>\n",
       "      <td>L</td>\n",
       "    </tr>\n",
       "    <tr>\n",
       "      <th>95</th>\n",
       "      <td>-23.451585</td>\n",
       "      <td>0.451712</td>\n",
       "      <td>2.663564</td>\n",
       "      <td>4hz</td>\n",
       "      <td>L</td>\n",
       "    </tr>\n",
       "    <tr>\n",
       "      <th>96</th>\n",
       "      <td>-58.159461</td>\n",
       "      <td>0.802627</td>\n",
       "      <td>3.270095</td>\n",
       "      <td>4hz</td>\n",
       "      <td>L</td>\n",
       "    </tr>\n",
       "    <tr>\n",
       "      <th>97</th>\n",
       "      <td>-48.264724</td>\n",
       "      <td>0.693107</td>\n",
       "      <td>49.439895</td>\n",
       "      <td>4hz</td>\n",
       "      <td>L</td>\n",
       "    </tr>\n",
       "    <tr>\n",
       "      <th>98</th>\n",
       "      <td>-50.706130</td>\n",
       "      <td>1.740431</td>\n",
       "      <td>2.238271</td>\n",
       "      <td>4hz</td>\n",
       "      <td>L</td>\n",
       "    </tr>\n",
       "    <tr>\n",
       "      <th>99</th>\n",
       "      <td>-109.851548</td>\n",
       "      <td>3.806392</td>\n",
       "      <td>36.583657</td>\n",
       "      <td>4hz</td>\n",
       "      <td>L</td>\n",
       "    </tr>\n",
       "    <tr>\n",
       "      <th>100</th>\n",
       "      <td>-58.323787</td>\n",
       "      <td>1.666763</td>\n",
       "      <td>2.107585</td>\n",
       "      <td>4hz</td>\n",
       "      <td>L</td>\n",
       "    </tr>\n",
       "    <tr>\n",
       "      <th>101</th>\n",
       "      <td>-27.043269</td>\n",
       "      <td>1.179061</td>\n",
       "      <td>2.879177</td>\n",
       "      <td>4hz</td>\n",
       "      <td>L</td>\n",
       "    </tr>\n",
       "    <tr>\n",
       "      <th>102</th>\n",
       "      <td>-86.998577</td>\n",
       "      <td>1.175341</td>\n",
       "      <td>3.528044</td>\n",
       "      <td>4hz</td>\n",
       "      <td>L</td>\n",
       "    </tr>\n",
       "    <tr>\n",
       "      <th>103</th>\n",
       "      <td>-34.121000</td>\n",
       "      <td>0.526151</td>\n",
       "      <td>3.549724</td>\n",
       "      <td>4hz</td>\n",
       "      <td>L</td>\n",
       "    </tr>\n",
       "    <tr>\n",
       "      <th>104</th>\n",
       "      <td>-83.536001</td>\n",
       "      <td>1.459169</td>\n",
       "      <td>2.141672</td>\n",
       "      <td>4hz</td>\n",
       "      <td>L</td>\n",
       "    </tr>\n",
       "    <tr>\n",
       "      <th>105</th>\n",
       "      <td>-29.895489</td>\n",
       "      <td>1.153762</td>\n",
       "      <td>2.089198</td>\n",
       "      <td>4hz</td>\n",
       "      <td>L</td>\n",
       "    </tr>\n",
       "    <tr>\n",
       "      <th>106</th>\n",
       "      <td>-42.783297</td>\n",
       "      <td>0.936923</td>\n",
       "      <td>3.614615</td>\n",
       "      <td>4hz</td>\n",
       "      <td>L</td>\n",
       "    </tr>\n",
       "    <tr>\n",
       "      <th>107</th>\n",
       "      <td>-59.837928</td>\n",
       "      <td>0.644363</td>\n",
       "      <td>4.393437</td>\n",
       "      <td>4hz</td>\n",
       "      <td>L</td>\n",
       "    </tr>\n",
       "    <tr>\n",
       "      <th>108</th>\n",
       "      <td>-41.128305</td>\n",
       "      <td>0.581740</td>\n",
       "      <td>3.474603</td>\n",
       "      <td>4hz</td>\n",
       "      <td>L</td>\n",
       "    </tr>\n",
       "    <tr>\n",
       "      <th>109</th>\n",
       "      <td>-40.060190</td>\n",
       "      <td>0.459915</td>\n",
       "      <td>3.827897</td>\n",
       "      <td>4hz</td>\n",
       "      <td>L</td>\n",
       "    </tr>\n",
       "  </tbody>\n",
       "</table>\n",
       "</div>"
      ],
      "text/plain": [
       "          Peaks  RiseTime    Latency Freq Cond\n",
       "59   -63.077769  0.584470   3.389625  4hz    L\n",
       "60   -76.300027  1.401275   2.320812  4hz    L\n",
       "61   -33.204585  1.151778  18.222449  4hz    L\n",
       "62   -19.763475  0.051127  45.214788  4hz    L\n",
       "63   -29.602051  0.920148   3.501284  4hz    L\n",
       "64   -57.729288  0.717509   3.322949  4hz    L\n",
       "65   -81.074621  0.607985   3.372244  4hz    L\n",
       "66   -53.832520  0.441110   3.354726  4hz    L\n",
       "67   -38.630878  1.049847  22.376510  4hz    L\n",
       "68   -82.624824  1.393123   3.611196  4hz    L\n",
       "69   -43.670531  6.306704  16.625450  4hz    L\n",
       "70   -69.048754  0.639394   3.696845  4hz    L\n",
       "71   -50.247012  0.901104   2.259930  4hz    L\n",
       "72   -38.977391  0.903122   3.672103  4hz    L\n",
       "73   -51.370446  0.696490   2.815794  4hz    L\n",
       "74   -93.546718  0.652200   3.616830  4hz    L\n",
       "75   -58.096472  0.626545   3.837689  4hz    L\n",
       "76   -83.072249  1.308421   2.636672  4hz    L\n",
       "77   -48.299936  0.306188  71.483252  4hz    L\n",
       "78   -40.670542  1.668462  38.208750  4hz    L\n",
       "79   -60.424805  1.109133   3.251956  4hz    L\n",
       "80   -76.258733  0.978367   3.555976  4hz    L\n",
       "81  -211.287275  3.173518  19.567600  4hz    L\n",
       "82   -61.622033  1.088259   2.368016  4hz    L\n",
       "83   -50.447904  0.857283  74.434597  4hz    L\n",
       "84   -50.929143  0.463280   3.468107  4hz    L\n",
       "85   -66.540054  0.582960   3.783505  4hz    L\n",
       "86   -48.440787  1.460962   2.388205  4hz    L\n",
       "87   -66.058819  1.064240   3.079552  4hz    L\n",
       "88   -46.093280  0.762473   2.367786  4hz    L\n",
       "89   -42.795035  0.297690   3.371337  4hz    L\n",
       "90   -43.111948  0.726594   3.798486  4hz    L\n",
       "91   -36.632831  1.107338   2.352939  4hz    L\n",
       "92  -142.376232  1.374747   3.131961  4hz    L\n",
       "93   -35.869892  0.945322   3.422647  4hz    L\n",
       "94   -82.690899  1.045888   3.233422  4hz    L\n",
       "95   -23.451585  0.451712   2.663564  4hz    L\n",
       "96   -58.159461  0.802627   3.270095  4hz    L\n",
       "97   -48.264724  0.693107  49.439895  4hz    L\n",
       "98   -50.706130  1.740431   2.238271  4hz    L\n",
       "99  -109.851548  3.806392  36.583657  4hz    L\n",
       "100  -58.323787  1.666763   2.107585  4hz    L\n",
       "101  -27.043269  1.179061   2.879177  4hz    L\n",
       "102  -86.998577  1.175341   3.528044  4hz    L\n",
       "103  -34.121000  0.526151   3.549724  4hz    L\n",
       "104  -83.536001  1.459169   2.141672  4hz    L\n",
       "105  -29.895489  1.153762   2.089198  4hz    L\n",
       "106  -42.783297  0.936923   3.614615  4hz    L\n",
       "107  -59.837928  0.644363   4.393437  4hz    L\n",
       "108  -41.128305  0.581740   3.474603  4hz    L\n",
       "109  -40.060190  0.459915   3.827897  4hz    L"
      ]
     },
     "execution_count": 32,
     "metadata": {},
     "output_type": "execute_result"
    }
   ],
   "source": [
    "datos[59:110]"
   ]
  },
  {
   "cell_type": "code",
   "execution_count": null,
   "metadata": {
    "collapsed": false
   },
   "outputs": [],
   "source": [
    "labes=grupillos.groups.keys()\n",
    "culor = dict(boxes='DarkGreen', whiskers='DarkOrange',medians='DarkBlue', caps='Gray')\n"
   ]
  },
  {
   "cell_type": "code",
   "execution_count": null,
   "metadata": {
    "collapsed": true
   },
   "outputs": [],
   "source": []
  },
  {
   "cell_type": "code",
   "execution_count": null,
   "metadata": {
    "collapsed": true
   },
   "outputs": [],
   "source": []
  },
  {
   "cell_type": "code",
   "execution_count": null,
   "metadata": {
    "collapsed": false
   },
   "outputs": [],
   "source": [
    "#fig, ax=plt.subplots(1)\n",
    "datillos.boxplot(column='Peaks', by='ID', rot=90, sym=\"o\")\n",
    "plt.show()\n"
   ]
  },
  {
   "cell_type": "code",
   "execution_count": null,
   "metadata": {
    "collapsed": false
   },
   "outputs": [],
   "source": [
    "# como hacer un Dataframe agregado\n",
    "vmagregado=datillos['Peaks'].groupby(datillos['ID']).agg({'Var': lambda x: x.var(), 'Mean': lambda x: x.mean()})"
   ]
  },
  {
   "cell_type": "code",
   "execution_count": null,
   "metadata": {
    "collapsed": false
   },
   "outputs": [],
   "source": [
    "vmagregado.plot('Mean', 'Var', kind='scatter')\n",
    "plt.show()"
   ]
  },
  {
   "cell_type": "markdown",
   "metadata": {},
   "source": [
    "Esta es la forma primitiva de como lo estabas haciendo tu antes."
   ]
  },
  {
   "cell_type": "code",
   "execution_count": null,
   "metadata": {
    "collapsed": false
   },
   "outputs": [],
   "source": [
    "Promedios=datillos.groupby('ID').mean()['Peaks']\n",
    "Variancas=datillos.groupby('ID').var()['Peaks']\n",
    "horizontal_stack = pandas.concat([Promedios, Variancas], axis=1)"
   ]
  },
  {
   "cell_type": "code",
   "execution_count": null,
   "metadata": {
    "collapsed": false
   },
   "outputs": [],
   "source": [
    "horizontal_stack.columns=[ 'Prom', 'Var']"
   ]
  },
  {
   "cell_type": "code",
   "execution_count": null,
   "metadata": {
    "collapsed": false
   },
   "outputs": [],
   "source": [
    "purrum=horizontal_stack.index.str.contains('06hz')"
   ]
  },
  {
   "cell_type": "code",
   "execution_count": null,
   "metadata": {
    "collapsed": false
   },
   "outputs": [],
   "source": [
    "solo6hz=horizontal_stack.iloc[purrum]"
   ]
  },
  {
   "cell_type": "code",
   "execution_count": null,
   "metadata": {
    "collapsed": true
   },
   "outputs": [],
   "source": [
    "def parab(x,a,b):\n",
    "    return a*x*x+b*x\n",
    "\n",
    "lasxxs=abs(solo6hz['Prom'])\n",
    "lasyys=solo6hz['Var']"
   ]
  },
  {
   "cell_type": "code",
   "execution_count": null,
   "metadata": {
    "collapsed": false
   },
   "outputs": [],
   "source": [
    "plt.scatter(abs(solo6hz['Prom']), solo6hz['Var'])\n",
    "plt.show()"
   ]
  },
  {
   "cell_type": "code",
   "execution_count": null,
   "metadata": {
    "collapsed": false
   },
   "outputs": [],
   "source": [
    "popt, pcov = curve_fit(parab, lasxxs, lasyys, p0=(-1,1))"
   ]
  },
  {
   "cell_type": "code",
   "execution_count": null,
   "metadata": {
    "collapsed": false
   },
   "outputs": [],
   "source": [
    "?curve_fit"
   ]
  },
  {
   "cell_type": "code",
   "execution_count": null,
   "metadata": {
    "collapsed": false
   },
   "outputs": [],
   "source": [
    "plt.scatter(lasxxs, lasyys)\n",
    "muchasxxs=range(0,160)\n",
    "plt.plot(muchasxxs, parab(muchasxxs, *popt))\n",
    "plt.show()"
   ]
  },
  {
   "cell_type": "code",
   "execution_count": null,
   "metadata": {
    "collapsed": true
   },
   "outputs": [],
   "source": []
  },
  {
   "cell_type": "code",
   "execution_count": null,
   "metadata": {
    "collapsed": true
   },
   "outputs": [],
   "source": []
  }
 ],
 "metadata": {
  "kernelspec": {
   "display_name": "Python 3",
   "language": "python",
   "name": "python3"
  },
  "language_info": {
   "codemirror_mode": {
    "name": "ipython",
    "version": 3
   },
   "file_extension": ".py",
   "mimetype": "text/x-python",
   "name": "python",
   "nbconvert_exporter": "python",
   "pygments_lexer": "ipython3",
   "version": "3.4.5"
  }
 },
 "nbformat": 4,
 "nbformat_minor": 0
}

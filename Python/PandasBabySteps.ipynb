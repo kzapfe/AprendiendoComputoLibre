{
 "cells": [
  {
   "cell_type": "markdown",
   "metadata": {},
   "source": [
    "# Leccion 1 para usar Pandas\n",
    "## Agrupando datos por tipo de experimento\n",
    " Vamos a agarrar los datos de Felipe y Agruparlos"
   ]
  },
  {
   "cell_type": "code",
   "execution_count": 20,
   "metadata": {
    "collapsed": false
   },
   "outputs": [],
   "source": [
    "import pandas\n",
    "import matplotlib.pyplot as plt\n",
    "import matplotlib\n",
    "matplotlib.style.use('ggplot')"
   ]
  },
  {
   "cell_type": "code",
   "execution_count": 21,
   "metadata": {
    "collapsed": true
   },
   "outputs": [],
   "source": [
    "from scipy.optimize import curve_fit"
   ]
  },
  {
   "cell_type": "code",
   "execution_count": 22,
   "metadata": {
    "collapsed": true
   },
   "outputs": [],
   "source": [
    "nombredatillos='../DatosIntraCelularesFelipe/C1_21_2_17_data.csv'"
   ]
  },
  {
   "cell_type": "code",
   "execution_count": 23,
   "metadata": {
    "collapsed": false
   },
   "outputs": [
    {
     "data": {
      "text/plain": [
       "802"
      ]
     },
     "execution_count": 23,
     "metadata": {},
     "output_type": "execute_result"
    }
   ],
   "source": [
    "datosoriginales=pandas.read_csv(nombredatillos)\n",
    "#grupillos=datillos.groupby('ID')\n",
    "len(datosoriginales)"
   ]
  },
  {
   "cell_type": "code",
   "execution_count": 32,
   "metadata": {
    "collapsed": false
   },
   "outputs": [
    {
     "data": {
      "text/plain": [
       "768"
      ]
     },
     "execution_count": 32,
     "metadata": {},
     "output_type": "execute_result"
    }
   ],
   "source": [
    "datos=datosoriginales.loc[datosoriginales.ID!='DCG_IV']\n",
    "datos.is_copy=False\n",
    "len(datos)"
   ]
  },
  {
   "cell_type": "code",
   "execution_count": 35,
   "metadata": {
    "collapsed": false
   },
   "outputs": [],
   "source": [
    "freqs=('06hz', '1hz','4hz')\n",
    "conds=('L', 'Nl','H', 'IV')\n",
    "picks=('PP1', 'PP2')\n",
    "a=[]\n",
    "b=[]\n",
    "pik=[]\n",
    "for j in datos['ID']:\n",
    "    bu=j.split('_')[1].strip()\n",
    "    for f in freqs:\n",
    "        l=bu.find(f)\n",
    "        if l!=-1: \n",
    "           a.append(bu[l:l+len(f)])\n",
    "    for c in conds:\n",
    "        l=bu.find(c)\n",
    "        if l!=-1: \n",
    "           b.append(bu[l:l+len(c)])\n",
    "    bu=j.split('_')[0].strip()\n",
    "    for p in picks:\n",
    "        l=bu.find(p)\n",
    "        if l!=-1:\n",
    "            pik.append(bu[l:l+len(p)])"
   ]
  },
  {
   "cell_type": "markdown",
   "metadata": {},
   "source": [
    "Tal ves esta no es la manera más conveniente de organizar un Marco de Datos, pero funciona bien y da los resúmenes correctos."
   ]
  },
  {
   "cell_type": "code",
   "execution_count": 36,
   "metadata": {
    "collapsed": false
   },
   "outputs": [],
   "source": [
    "datos['Freq']=pandas.Series(a, index=datos.index, dtype='category')\n",
    "datos['Cond']=pandas.Series(b,index=datos.index, dtype='category')\n",
    "datos['Peak']=pandas.Series(pik,index=datos.index, dtype='category')\n",
    "datos=datos.drop('ID',1)"
   ]
  },
  {
   "cell_type": "code",
   "execution_count": 56,
   "metadata": {
    "collapsed": false
   },
   "outputs": [],
   "source": [
    "datos.boxplot(column='Peaks', by=['Cond','Peak'], rot=90, sym=\"o\")\n",
    "plt.show()"
   ]
  },
  {
   "cell_type": "code",
   "execution_count": 138,
   "metadata": {
    "collapsed": false
   },
   "outputs": [],
   "source": [
    "resumenmeanvar=datos.groupby(['Cond','Freq', 'Peak']).agg(['mean','var'])"
   ]
  },
  {
   "cell_type": "code",
   "execution_count": 139,
   "metadata": {
    "collapsed": false
   },
   "outputs": [
    {
     "data": {
      "text/html": [
       "<div>\n",
       "<table border=\"1\" class=\"dataframe\">\n",
       "  <thead>\n",
       "    <tr>\n",
       "      <th></th>\n",
       "      <th></th>\n",
       "      <th></th>\n",
       "      <th colspan=\"2\" halign=\"left\">Peaks</th>\n",
       "      <th colspan=\"2\" halign=\"left\">RiseTime</th>\n",
       "      <th colspan=\"2\" halign=\"left\">Latency</th>\n",
       "    </tr>\n",
       "    <tr>\n",
       "      <th></th>\n",
       "      <th></th>\n",
       "      <th></th>\n",
       "      <th>mean</th>\n",
       "      <th>var</th>\n",
       "      <th>mean</th>\n",
       "      <th>var</th>\n",
       "      <th>mean</th>\n",
       "      <th>var</th>\n",
       "    </tr>\n",
       "    <tr>\n",
       "      <th>Cond</th>\n",
       "      <th>Freq</th>\n",
       "      <th>Peak</th>\n",
       "      <th></th>\n",
       "      <th></th>\n",
       "      <th></th>\n",
       "      <th></th>\n",
       "      <th></th>\n",
       "      <th></th>\n",
       "    </tr>\n",
       "  </thead>\n",
       "  <tbody>\n",
       "    <tr>\n",
       "      <th rowspan=\"6\" valign=\"top\">H</th>\n",
       "      <th rowspan=\"2\" valign=\"top\">06hz</th>\n",
       "      <th>PP1</th>\n",
       "      <td>-113.769955</td>\n",
       "      <td>1455.487323</td>\n",
       "      <td>1.476492</td>\n",
       "      <td>0.193494</td>\n",
       "      <td>2.675965</td>\n",
       "      <td>0.149245</td>\n",
       "    </tr>\n",
       "    <tr>\n",
       "      <th>PP2</th>\n",
       "      <td>-147.651332</td>\n",
       "      <td>2009.919504</td>\n",
       "      <td>1.404823</td>\n",
       "      <td>0.115448</td>\n",
       "      <td>2.476454</td>\n",
       "      <td>0.158252</td>\n",
       "    </tr>\n",
       "    <tr>\n",
       "      <th rowspan=\"2\" valign=\"top\">1hz</th>\n",
       "      <th>PP1</th>\n",
       "      <td>-243.121521</td>\n",
       "      <td>6109.538501</td>\n",
       "      <td>1.290133</td>\n",
       "      <td>0.118863</td>\n",
       "      <td>2.394464</td>\n",
       "      <td>0.012958</td>\n",
       "    </tr>\n",
       "    <tr>\n",
       "      <th>PP2</th>\n",
       "      <td>-289.915108</td>\n",
       "      <td>7579.770089</td>\n",
       "      <td>1.269655</td>\n",
       "      <td>0.055004</td>\n",
       "      <td>2.343144</td>\n",
       "      <td>0.010622</td>\n",
       "    </tr>\n",
       "    <tr>\n",
       "      <th rowspan=\"2\" valign=\"top\">4hz</th>\n",
       "      <th>PP1</th>\n",
       "      <td>-336.653250</td>\n",
       "      <td>10091.453638</td>\n",
       "      <td>1.194904</td>\n",
       "      <td>0.135363</td>\n",
       "      <td>3.524997</td>\n",
       "      <td>47.112618</td>\n",
       "    </tr>\n",
       "    <tr>\n",
       "      <th>PP2</th>\n",
       "      <td>-367.731437</td>\n",
       "      <td>6536.706103</td>\n",
       "      <td>1.257668</td>\n",
       "      <td>0.073905</td>\n",
       "      <td>2.542646</td>\n",
       "      <td>0.010698</td>\n",
       "    </tr>\n",
       "    <tr>\n",
       "      <th rowspan=\"6\" valign=\"top\">L</th>\n",
       "      <th rowspan=\"2\" valign=\"top\">06hz</th>\n",
       "      <th>PP1</th>\n",
       "      <td>-23.680546</td>\n",
       "      <td>343.452104</td>\n",
       "      <td>0.839457</td>\n",
       "      <td>0.546736</td>\n",
       "      <td>5.561611</td>\n",
       "      <td>66.821810</td>\n",
       "    </tr>\n",
       "    <tr>\n",
       "      <th>PP2</th>\n",
       "      <td>-46.081543</td>\n",
       "      <td>265.376418</td>\n",
       "      <td>0.687339</td>\n",
       "      <td>0.076339</td>\n",
       "      <td>5.943872</td>\n",
       "      <td>55.466993</td>\n",
       "    </tr>\n",
       "    <tr>\n",
       "      <th rowspan=\"2\" valign=\"top\">1hz</th>\n",
       "      <th>PP1</th>\n",
       "      <td>-40.070618</td>\n",
       "      <td>293.647784</td>\n",
       "      <td>0.732265</td>\n",
       "      <td>0.127033</td>\n",
       "      <td>3.728487</td>\n",
       "      <td>7.484904</td>\n",
       "    </tr>\n",
       "    <tr>\n",
       "      <th>PP2</th>\n",
       "      <td>-34.338535</td>\n",
       "      <td>349.213016</td>\n",
       "      <td>0.825491</td>\n",
       "      <td>0.119721</td>\n",
       "      <td>24.330266</td>\n",
       "      <td>868.225356</td>\n",
       "    </tr>\n",
       "    <tr>\n",
       "      <th rowspan=\"2\" valign=\"top\">4hz</th>\n",
       "      <th>PP1</th>\n",
       "      <td>-53.600904</td>\n",
       "      <td>343.895213</td>\n",
       "      <td>0.933109</td>\n",
       "      <td>1.049475</td>\n",
       "      <td>6.133467</td>\n",
       "      <td>73.224482</td>\n",
       "    </tr>\n",
       "    <tr>\n",
       "      <th>PP2</th>\n",
       "      <td>-60.432853</td>\n",
       "      <td>1261.229504</td>\n",
       "      <td>1.110153</td>\n",
       "      <td>0.518629</td>\n",
       "      <td>11.448616</td>\n",
       "      <td>370.654637</td>\n",
       "    </tr>\n",
       "    <tr>\n",
       "      <th rowspan=\"6\" valign=\"top\">Nl</th>\n",
       "      <th rowspan=\"2\" valign=\"top\">06hz</th>\n",
       "      <th>PP1</th>\n",
       "      <td>-52.504870</td>\n",
       "      <td>340.731234</td>\n",
       "      <td>1.045617</td>\n",
       "      <td>0.240968</td>\n",
       "      <td>4.012673</td>\n",
       "      <td>29.308606</td>\n",
       "    </tr>\n",
       "    <tr>\n",
       "      <th>PP2</th>\n",
       "      <td>-65.056879</td>\n",
       "      <td>1104.563300</td>\n",
       "      <td>1.365980</td>\n",
       "      <td>3.660076</td>\n",
       "      <td>8.933411</td>\n",
       "      <td>522.914585</td>\n",
       "    </tr>\n",
       "    <tr>\n",
       "      <th rowspan=\"2\" valign=\"top\">1hz</th>\n",
       "      <th>PP1</th>\n",
       "      <td>-150.539114</td>\n",
       "      <td>3509.836941</td>\n",
       "      <td>1.346691</td>\n",
       "      <td>0.069244</td>\n",
       "      <td>2.738943</td>\n",
       "      <td>0.234228</td>\n",
       "    </tr>\n",
       "    <tr>\n",
       "      <th>PP2</th>\n",
       "      <td>-179.406115</td>\n",
       "      <td>3789.277344</td>\n",
       "      <td>1.516940</td>\n",
       "      <td>0.172489</td>\n",
       "      <td>2.561214</td>\n",
       "      <td>0.249406</td>\n",
       "    </tr>\n",
       "    <tr>\n",
       "      <th rowspan=\"2\" valign=\"top\">4hz</th>\n",
       "      <th>PP1</th>\n",
       "      <td>-194.216343</td>\n",
       "      <td>4993.738113</td>\n",
       "      <td>1.290465</td>\n",
       "      <td>0.150920</td>\n",
       "      <td>2.575844</td>\n",
       "      <td>0.107352</td>\n",
       "    </tr>\n",
       "    <tr>\n",
       "      <th>PP2</th>\n",
       "      <td>-220.350826</td>\n",
       "      <td>6686.939512</td>\n",
       "      <td>1.331842</td>\n",
       "      <td>0.187446</td>\n",
       "      <td>2.407701</td>\n",
       "      <td>0.021811</td>\n",
       "    </tr>\n",
       "  </tbody>\n",
       "</table>\n",
       "</div>"
      ],
      "text/plain": [
       "                     Peaks                RiseTime              Latency  \\\n",
       "                      mean           var      mean       var       mean   \n",
       "Cond Freq Peak                                                            \n",
       "H    06hz PP1  -113.769955   1455.487323  1.476492  0.193494   2.675965   \n",
       "          PP2  -147.651332   2009.919504  1.404823  0.115448   2.476454   \n",
       "     1hz  PP1  -243.121521   6109.538501  1.290133  0.118863   2.394464   \n",
       "          PP2  -289.915108   7579.770089  1.269655  0.055004   2.343144   \n",
       "     4hz  PP1  -336.653250  10091.453638  1.194904  0.135363   3.524997   \n",
       "          PP2  -367.731437   6536.706103  1.257668  0.073905   2.542646   \n",
       "L    06hz PP1   -23.680546    343.452104  0.839457  0.546736   5.561611   \n",
       "          PP2   -46.081543    265.376418  0.687339  0.076339   5.943872   \n",
       "     1hz  PP1   -40.070618    293.647784  0.732265  0.127033   3.728487   \n",
       "          PP2   -34.338535    349.213016  0.825491  0.119721  24.330266   \n",
       "     4hz  PP1   -53.600904    343.895213  0.933109  1.049475   6.133467   \n",
       "          PP2   -60.432853   1261.229504  1.110153  0.518629  11.448616   \n",
       "Nl   06hz PP1   -52.504870    340.731234  1.045617  0.240968   4.012673   \n",
       "          PP2   -65.056879   1104.563300  1.365980  3.660076   8.933411   \n",
       "     1hz  PP1  -150.539114   3509.836941  1.346691  0.069244   2.738943   \n",
       "          PP2  -179.406115   3789.277344  1.516940  0.172489   2.561214   \n",
       "     4hz  PP1  -194.216343   4993.738113  1.290465  0.150920   2.575844   \n",
       "          PP2  -220.350826   6686.939512  1.331842  0.187446   2.407701   \n",
       "\n",
       "                            \n",
       "                       var  \n",
       "Cond Freq Peak              \n",
       "H    06hz PP1     0.149245  \n",
       "          PP2     0.158252  \n",
       "     1hz  PP1     0.012958  \n",
       "          PP2     0.010622  \n",
       "     4hz  PP1    47.112618  \n",
       "          PP2     0.010698  \n",
       "L    06hz PP1    66.821810  \n",
       "          PP2    55.466993  \n",
       "     1hz  PP1     7.484904  \n",
       "          PP2   868.225356  \n",
       "     4hz  PP1    73.224482  \n",
       "          PP2   370.654637  \n",
       "Nl   06hz PP1    29.308606  \n",
       "          PP2   522.914585  \n",
       "     1hz  PP1     0.234228  \n",
       "          PP2     0.249406  \n",
       "     4hz  PP1     0.107352  \n",
       "          PP2     0.021811  "
      ]
     },
     "execution_count": 139,
     "metadata": {},
     "output_type": "execute_result"
    }
   ],
   "source": [
    "resumenmeanvar"
   ]
  },
  {
   "cell_type": "code",
   "execution_count": 136,
   "metadata": {
    "collapsed": false
   },
   "outputs": [
    {
     "name": "stderr",
     "output_type": "stream",
     "text": [
      "/usr/lib64/python3.4/site-packages/pandas/core/index.py:843: FutureWarning: slice indexers when using iloc should be integers and not floating point\n"
     ]
    }
   ],
   "source": [
    "fig, ax = plt.subplots()\n",
    "for pupu in resumenmeanvar.index.levels[0]:\n",
    "    xxs=abs(resumenmeanvar.loc[pupu]['Peaks']['mean'])\n",
    "    yys=resumenmeanvar.loc[pupu]['Peaks']['var']\n",
    "    ax.scatter(xxs,yys, label=pupu, marker='x')\n",
    "ax.legend()\n",
    "ax.set_xlabel('Mean')\n",
    "ax.set_ylabel(\"Var\")\n",
    "plt.show()"
   ]
  },
  {
   "cell_type": "code",
   "execution_count": 137,
   "metadata": {
    "collapsed": true
   },
   "outputs": [],
   "source": [
    "def parab(x,a,b):\n",
    "    return a*x*x+b*x\n"
   ]
  },
  {
   "cell_type": "code",
   "execution_count": 141,
   "metadata": {
    "collapsed": false
   },
   "outputs": [
    {
     "name": "stderr",
     "output_type": "stream",
     "text": [
      "/usr/lib64/python3.4/site-packages/pandas/core/index.py:843: FutureWarning: slice indexers when using iloc should be integers and not floating point\n",
      "/usr/lib64/python3.4/site-packages/ipykernel/__main__.py:2: DeprecationWarning: using a non-integer number instead of an integer will result in an error in the future\n",
      "  from ipykernel import kernelapp as app\n"
     ]
    }
   ],
   "source": [
    "fig, ax = plt.subplots()\n",
    "for pupu in resumenmeanvar.index.levels[0]:\n",
    "    xxs=abs(resumenmeanvar.loc[pupu]['Peaks']['mean'])\n",
    "    yys=resumenmeanvar.loc[pupu]['Peaks']['var']\n",
    "    popt, pcov = curve_fit(parab, xxs, yys, p0=(-1,1))  \n",
    "    ax.scatter(xxs,yys, label=pupu, marker='x')\n",
    "    muchasxxs=range(0,160)\n",
    "    ax.plot(muchasxxs,parab(muchasxxs,*popt))\n",
    "ax.legend()\n",
    "ax.set_xlabel('Mean')\n",
    "#ax.set_ylabel(\"Var\")\n",
    "#plt.show()"
   ]
  },
  {
   "cell_type": "code",
   "execution_count": null,
   "metadata": {
    "collapsed": false
   },
   "outputs": [],
   "source": [
    "plt.scatter(abs(solo6hz['Prom']), solo6hz['Var'])\n",
    "plt.show()"
   ]
  },
  {
   "cell_type": "code",
   "execution_count": null,
   "metadata": {
    "collapsed": false
   },
   "outputs": [],
   "source": [
    "popt, pcov = curve_fit(parab, lasxxs, lasyys, p0=(-1,1))"
   ]
  },
  {
   "cell_type": "code",
   "execution_count": null,
   "metadata": {
    "collapsed": false
   },
   "outputs": [],
   "source": [
    "?curve_fit"
   ]
  },
  {
   "cell_type": "code",
   "execution_count": null,
   "metadata": {
    "collapsed": false
   },
   "outputs": [],
   "source": [
    "plt.scatter(lasxxs, lasyys)\n",
    "muchasxxs=range(0,160)\n",
    "plt.plot(muchasxxs, parab(muchasxxs, *popt))\n",
    "plt.show()"
   ]
  },
  {
   "cell_type": "code",
   "execution_count": null,
   "metadata": {
    "collapsed": true
   },
   "outputs": [],
   "source": []
  },
  {
   "cell_type": "code",
   "execution_count": null,
   "metadata": {
    "collapsed": true
   },
   "outputs": [],
   "source": []
  }
 ],
 "metadata": {
  "kernelspec": {
   "display_name": "Python 3",
   "language": "python",
   "name": "python3"
  },
  "language_info": {
   "codemirror_mode": {
    "name": "ipython",
    "version": 3
   },
   "file_extension": ".py",
   "mimetype": "text/x-python",
   "name": "python",
   "nbconvert_exporter": "python",
   "pygments_lexer": "ipython3",
   "version": "3.4.5"
  }
 },
 "nbformat": 4,
 "nbformat_minor": 0
}

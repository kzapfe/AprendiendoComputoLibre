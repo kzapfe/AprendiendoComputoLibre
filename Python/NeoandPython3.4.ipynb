{
 "cells": [
  {
   "cell_type": "code",
   "execution_count": 1,
   "metadata": {
    "collapsed": true
   },
   "outputs": [],
   "source": [
    "from neo import io #Este es el módulo bueno"
   ]
  },
  {
   "cell_type": "code",
   "execution_count": 2,
   "metadata": {
    "collapsed": true
   },
   "outputs": [],
   "source": [
    "nomea=\"./Cell 5 Pyr Cs_0005.abf\""
   ]
  },
  {
   "cell_type": "code",
   "execution_count": 3,
   "metadata": {
    "collapsed": true
   },
   "outputs": [],
   "source": [
    "archivo=io.AxonIO(filename=nomea) #Esto abre el archivo completo."
   ]
  },
  {
   "cell_type": "code",
   "execution_count": 4,
   "metadata": {
    "collapsed": true
   },
   "outputs": [],
   "source": [
    "datos=archivo.read_block(lazy=False, cascade=True)"
   ]
  },
  {
   "cell_type": "code",
   "execution_count": 5,
   "metadata": {
    "collapsed": true
   },
   "outputs": [],
   "source": [
    "canalma=datos.segments[0].analogsignals[0]"
   ]
  },
  {
   "cell_type": "code",
   "execution_count": 6,
   "metadata": {
    "collapsed": true
   },
   "outputs": [],
   "source": [
    "?canalma"
   ]
  },
  {
   "cell_type": "code",
   "execution_count": 7,
   "metadata": {
    "collapsed": false
   },
   "outputs": [],
   "source": [
    "import matplotlib.pyplot as plt"
   ]
  },
  {
   "cell_type": "code",
   "execution_count": 10,
   "metadata": {
    "collapsed": false
   },
   "outputs": [],
   "source": [
    "plt.figure(figsize=(14,10))\n",
    "#plt.xlim(500,1000)\n",
    "plt.plot(canalma, color=\"red\") #la grafica de lineas es la que se usa por omisión\n",
    "plt.show()"
   ]
  },
  {
   "cell_type": "code",
   "execution_count": 11,
   "metadata": {
    "collapsed": true
   },
   "outputs": [],
   "source": [
    "dibujo=plt.figure(figsize=(14,10))\n",
    "with plt.xkcd():\n",
    "    for i in datos.segments:\n",
    "        plt.plot(i.analogsignals[0],lw=0.25,alpha=0.5)\n",
    "    plt.show()\n",
    "\n",
    "dibujo.savefig(\"MuchosTrazosIntraxkcd01.png\",dpi=90)\n",
    "plt.close()"
   ]
  },
  {
   "cell_type": "code",
   "execution_count": 25,
   "metadata": {
    "collapsed": true
   },
   "outputs": [],
   "source": [
    "import numpy as np\n",
    "rango=np.arange(-5,5,0.1)\n",
    "def gaussian(x):\n",
    "    return np.exp(-(x**2)/2.0)/np.sqrt(2*np.pi)\n",
    "\n",
    "filtrogauss=list(map(gaussian, rango)) \n",
    "#Diferencia con Python 2.7. \n",
    "#Aqui hay QUE FORZAR la evaluacion.\n",
    "\n",
    "def gaussiansuave(x):\n",
    "    tantos=np.size(x)\n",
    "    aux2=np.convolve(np.squeeze(x),filtrogauss)\n",
    "    return aux2"
   ]
  },
  {
   "cell_type": "code",
   "execution_count": 28,
   "metadata": {
    "collapsed": false
   },
   "outputs": [],
   "source": [
    "tuabuela=gaussiansuave(canalma)"
   ]
  },
  {
   "cell_type": "code",
   "execution_count": 34,
   "metadata": {
    "collapsed": false
   },
   "outputs": [],
   "source": [
    "figura=plt.figure(figsize=(14,10))\n",
    "plt.plot(tuabuela)\n",
    "figura.text(1000,-3000, \"De pocasumauser!\",family=\"Serif\",fontsize=20)\n",
    "figura.show()\n",
    "#close(figura)"
   ]
  },
  {
   "cell_type": "code",
   "execution_count": null,
   "metadata": {
    "collapsed": true
   },
   "outputs": [],
   "source": []
  }
 ],
 "metadata": {
  "kernelspec": {
   "display_name": "Python 3",
   "language": "python",
   "name": "python3"
  },
  "language_info": {
   "codemirror_mode": {
    "name": "ipython",
    "version": 3
   },
   "file_extension": ".py",
   "mimetype": "text/x-python",
   "name": "python",
   "nbconvert_exporter": "python",
   "pygments_lexer": "ipython3",
   "version": "3.4.5"
  }
 },
 "nbformat": 4,
 "nbformat_minor": 0
}

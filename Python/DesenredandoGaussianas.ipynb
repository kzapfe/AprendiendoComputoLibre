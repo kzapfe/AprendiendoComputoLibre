{
 "cells": [
  {
   "cell_type": "code",
   "execution_count": 44,
   "metadata": {
    "collapsed": true
   },
   "outputs": [],
   "source": [
    "from scipy.stats import norm as gaussian\n",
    "import matplotlib.pyplot as plt\n",
    "import numpy as np\n",
    "import pandas as pnd"
   ]
  },
  {
   "cell_type": "code",
   "execution_count": 3,
   "metadata": {
    "collapsed": false
   },
   "outputs": [
    {
     "data": {
      "text/plain": [
       "9.551694541948838e-184"
      ]
     },
     "execution_count": 3,
     "metadata": {},
     "output_type": "execute_result"
    }
   ],
   "source": [
    "gaussian.pdf(29)"
   ]
  },
  {
   "cell_type": "code",
   "execution_count": 33,
   "metadata": {
    "collapsed": false
   },
   "outputs": [],
   "source": [
    "centro1=22\n",
    "altura1=100\n",
    "sigma=8\n",
    "def mezcla(x):\n",
    "    result= (altura1*gaussian.pdf(x,loc=centro1,scale=sigma) + \n",
    "            altura1/2*gaussian.pdf(x,loc=2*centro1,scale=2*sigma) + \n",
    "            altura1/3*gaussian.pdf(x,loc=3*centro1,scale=3*sigma))   \n",
    "    return result"
   ]
  },
  {
   "cell_type": "code",
   "execution_count": 41,
   "metadata": {
    "collapsed": false
   },
   "outputs": [],
   "source": [
    "xxs=np.arange(0,100,0.5)\n",
    "yys1=altura1*gaussian.pdf(xxs,loc=centro1,scale=sigma)\n",
    "yys2=altura1/2*gaussian.pdf(xxs,loc=2*centro1,scale=2*sigma)\n",
    "yys3=altura1/3*gaussian.pdf(xxs,loc=3*centro1,scale=3*sigma)\n",
    "yymezclados=yys1+yys2+yys3\n"
   ]
  },
  {
   "cell_type": "code",
   "execution_count": 43,
   "metadata": {
    "collapsed": false
   },
   "outputs": [],
   "source": [
    "plt.plot(xxs,yys1, lw=1.5)\n",
    "plt.plot(xxs,yys2, lw=1.5)\n",
    "plt.plot(xxs,yys3, lw=1.5)\n",
    "plt.plot(xxs, yymezclados)\n",
    "plt.axvline(centro1,linewidth=2,c='k')\n",
    "plt.axvline(centro1*2,linewidth=2,c='k')\n",
    "plt.axvline(centro1*3,linewidth=2,c='k')\n",
    "plt.show()"
   ]
  },
  {
   "cell_type": "code",
   "execution_count": 45,
   "metadata": {
    "collapsed": true
   },
   "outputs": [],
   "source": [
    "datos=pnd.read_csv(\"../DatosIntraCelularesFelipe/Sr_data.csv\")"
   ]
  },
  {
   "cell_type": "code",
   "execution_count": 50,
   "metadata": {
    "collapsed": false
   },
   "outputs": [
    {
     "data": {
      "text/html": [
       "<div>\n",
       "<style>\n",
       "    .dataframe thead tr:only-child th {\n",
       "        text-align: right;\n",
       "    }\n",
       "\n",
       "    .dataframe thead th {\n",
       "        text-align: left;\n",
       "    }\n",
       "\n",
       "    .dataframe tbody tr th {\n",
       "        vertical-align: top;\n",
       "    }\n",
       "</style>\n",
       "<table border=\"1\" class=\"dataframe\">\n",
       "  <thead>\n",
       "    <tr style=\"text-align: right;\">\n",
       "      <th></th>\n",
       "      <th>All</th>\n",
       "      <th>Cell 1</th>\n",
       "      <th>Cell 2</th>\n",
       "      <th>Cell 3</th>\n",
       "    </tr>\n",
       "  </thead>\n",
       "  <tbody>\n",
       "    <tr>\n",
       "      <th>0</th>\n",
       "      <td>10.8407</td>\n",
       "      <td>10.8407</td>\n",
       "      <td>27.8258</td>\n",
       "      <td>14.9290</td>\n",
       "    </tr>\n",
       "    <tr>\n",
       "      <th>1</th>\n",
       "      <td>11.4344</td>\n",
       "      <td>11.4344</td>\n",
       "      <td>16.0335</td>\n",
       "      <td>19.9644</td>\n",
       "    </tr>\n",
       "    <tr>\n",
       "      <th>2</th>\n",
       "      <td>11.8062</td>\n",
       "      <td>11.8062</td>\n",
       "      <td>22.2313</td>\n",
       "      <td>23.5026</td>\n",
       "    </tr>\n",
       "    <tr>\n",
       "      <th>3</th>\n",
       "      <td>13.0713</td>\n",
       "      <td>13.0713</td>\n",
       "      <td>24.4454</td>\n",
       "      <td>21.7621</td>\n",
       "    </tr>\n",
       "    <tr>\n",
       "      <th>4</th>\n",
       "      <td>13.2419</td>\n",
       "      <td>13.2419</td>\n",
       "      <td>43.8909</td>\n",
       "      <td>49.8145</td>\n",
       "    </tr>\n",
       "  </tbody>\n",
       "</table>\n",
       "</div>"
      ],
      "text/plain": [
       "       All   Cell 1   Cell 2   Cell 3\n",
       "0  10.8407  10.8407  27.8258  14.9290\n",
       "1  11.4344  11.4344  16.0335  19.9644\n",
       "2  11.8062  11.8062  22.2313  23.5026\n",
       "3  13.0713  13.0713  24.4454  21.7621\n",
       "4  13.2419  13.2419  43.8909  49.8145"
      ]
     },
     "execution_count": 50,
     "metadata": {},
     "output_type": "execute_result"
    }
   ],
   "source": [
    "datos.head()"
   ]
  },
  {
   "cell_type": "code",
   "execution_count": 69,
   "metadata": {
    "collapsed": false
   },
   "outputs": [],
   "source": [
    "(hist, bins) = np.histogram(datos[\"All\"].dropna(), bins= 75)"
   ]
  },
  {
   "cell_type": "code",
   "execution_count": 70,
   "metadata": {
    "collapsed": false
   },
   "outputs": [],
   "source": [
    "plt.bar(bins[0:-1],hist)\n",
    "plt.show()"
   ]
  },
  {
   "cell_type": "code",
   "execution_count": 71,
   "metadata": {
    "collapsed": false
   },
   "outputs": [
    {
     "data": {
      "text/plain": [
       "(29.174765288888885, 15.007794461268828)"
      ]
     },
     "execution_count": 71,
     "metadata": {},
     "output_type": "execute_result"
    }
   ],
   "source": [
    "gaussian.fit(datos[\"All\"])"
   ]
  },
  {
   "cell_type": "code",
   "execution_count": null,
   "metadata": {
    "collapsed": true
   },
   "outputs": [],
   "source": []
  }
 ],
 "metadata": {
  "kernelspec": {
   "display_name": "Python 3",
   "language": "python",
   "name": "python3"
  },
  "language_info": {
   "codemirror_mode": {
    "name": "ipython",
    "version": 3
   },
   "file_extension": ".py",
   "mimetype": "text/x-python",
   "name": "python",
   "nbconvert_exporter": "python",
   "pygments_lexer": "ipython3",
   "version": "3.4.5"
  }
 },
 "nbformat": 4,
 "nbformat_minor": 0
}
